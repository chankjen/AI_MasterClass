{
 "cells": [
  {
   "cell_type": "code",
   "execution_count": 5,
   "id": "200b10e3-ba91-4b5c-ac5f-c3c8a28bd757",
   "metadata": {},
   "outputs": [
    {
     "name": "stdout",
     "output_type": "stream",
     "text": [
      "Document: ['Invoice', 'ID', 'INV-768', 'Date', '2023-10-05', 'Total', '$500']\n",
      "Predicted target: INV-768\n"
     ]
    }
   ],
   "source": [
    "import pandas as pd\n",
    "import numpy as np\n",
    "import matplotlib.pyplot as plt  # For plotting\n",
    "import gym  # <-- ADD THIS IMPORT\n",
    "\n",
    "# Load dataset\n",
    "data = pd.read_csv(\"rl_documents.csv\")\n",
    "documents = [doc.split(\"|\") for doc in data[\"document\"]]\n",
    "target_indices = data[\"target_index\"].tolist()\n",
    "\n",
    "class DocumentEnv:\n",
    "    def __init__(self, documents, targets):\n",
    "        self.documents = documents\n",
    "        self.targets = targets\n",
    "        self.current_doc = 0\n",
    "        self.action_space = gym.spaces.Discrete(len(documents[self.current_doc]))  # Requires gym\n",
    "        \n",
    "    def reset(self):\n",
    "        self.current_doc = np.random.randint(0, len(self.documents))\n",
    "        return self.documents[self.current_doc]\n",
    "    \n",
    "    def step(self, action):\n",
    "        correct_idx = self.targets[self.current_doc]\n",
    "        reward = 1 if action == correct_idx else -1\n",
    "        done = True\n",
    "        return self.documents[self.current_doc], reward, done, {}\n",
    "\n",
    "# Initialize environment\n",
    "env = DocumentEnv(documents, target_indices)\n",
    "q_table = np.zeros((len(documents), max(len(doc) for doc in documents)))\n",
    "\n",
    "# Train the agent\n",
    "for episode in range(100):\n",
    "    state = env.reset()\n",
    "    state_id = documents.index(state)\n",
    "    action = np.argmax(q_table[state_id])\n",
    "    _, reward, _, _ = env.step(action)\n",
    "    q_table[state_id, action] += reward\n",
    "\n",
    "# Test\n",
    "test_doc = documents[0]\n",
    "predicted_idx = np.argmax(q_table[0])\n",
    "print(f\"Document: {test_doc}\")\n",
    "print(f\"Predicted target: {test_doc[predicted_idx]}\")"
   ]
  },
  {
   "cell_type": "code",
   "execution_count": 9,
   "id": "3b675717-b090-475a-af81-019a9db56e39",
   "metadata": {},
   "outputs": [
    {
     "name": "stdout",
     "output_type": "stream",
     "text": [
      "Document: ['Receipt', 'ID', 'RC-2023', 'Shop', 'CoffeeCo', 'Amount', '$8.99']\n",
      "Predicted target: RC-2023\n"
     ]
    }
   ],
   "source": [
    "# Test 2\n",
    "test_doc = documents[1]\n",
    "predicted_idx = np.argmax(q_table[0])\n",
    "print(f\"Document: {test_doc}\")\n",
    "print(f\"Predicted target: {test_doc[predicted_idx]}\")"
   ]
  },
  {
   "cell_type": "code",
   "execution_count": 12,
   "id": "133ab43b-7d3a-459c-a849-547eb704fe1e",
   "metadata": {},
   "outputs": [
    {
     "name": "stdout",
     "output_type": "stream",
     "text": [
      "📑 Total Documents Processed: 5\n"
     ]
    }
   ],
   "source": [
    "# --- NEW: Count total documents and target indexes ---\n",
    "total_docs = len(documents)\n",
    "print(f\"📑 Total Documents Processed: {total_docs}\")"
   ]
  },
  {
   "cell_type": "code",
   "execution_count": 14,
   "id": "ac0b15ba-8d55-49c0-90ad-ba51cd3ed323",
   "metadata": {},
   "outputs": [
    {
     "name": "stdout",
     "output_type": "stream",
     "text": [
      "\n",
      "🎯 Target Index Frequencies:\n",
      "target_index\n",
      "2    2\n",
      "6    2\n",
      "5    1\n",
      "Name: count, dtype: int64\n"
     ]
    }
   ],
   "source": [
    "# Count frequency of each target index\n",
    "index_counts = data[\"target_index\"].value_counts()\n",
    "print(\"\\n🎯 Target Index Frequencies:\")\n",
    "print(index_counts)"
   ]
  },
  {
   "cell_type": "code",
   "execution_count": null,
   "id": "cc999bd2-a1d1-46da-937b-7ba7e71a54de",
   "metadata": {},
   "outputs": [],
   "source": []
  }
 ],
 "metadata": {
  "kernelspec": {
   "display_name": "Python 3 (ipykernel)",
   "language": "python",
   "name": "python3"
  },
  "language_info": {
   "codemirror_mode": {
    "name": "ipython",
    "version": 3
   },
   "file_extension": ".py",
   "mimetype": "text/x-python",
   "name": "python",
   "nbconvert_exporter": "python",
   "pygments_lexer": "ipython3",
   "version": "3.12.7"
  }
 },
 "nbformat": 4,
 "nbformat_minor": 5
}
