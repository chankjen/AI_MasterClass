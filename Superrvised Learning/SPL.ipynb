{
 "cells": [
  {
   "cell_type": "code",
   "execution_count": 34,
   "id": "a0ececb5-8a42-4b01-a43a-0986031b57b9",
   "metadata": {},
   "outputs": [
    {
     "name": "stdout",
     "output_type": "stream",
     "text": [
      "Accuracy: 33.33%\n"
     ]
    }
   ],
   "source": [
    "import pandas as pd\n",
    "import matplotlib.pyplot as plt\n",
    "import seaborn as sns  # <-- Required for countplot\n",
    "from sklearn.model_selection import train_test_split\n",
    "from sklearn.feature_extraction.text import TfidfVectorizer\n",
    "from sklearn.linear_model import LogisticRegression\n",
    "\n",
    "# Load data (e.g., CSV with \"text\" and \"label\" columns)\n",
    "data = pd.read_csv('receipts.csv')\n",
    "X_train, X_test, y_train, y_test = train_test_split(data['text'], data['label'])\n",
    "\n",
    "# Convert text to numbers\n",
    "vectorizer = TfidfVectorizer()\n",
    "X_train_vec = vectorizer.fit_transform(X_train)\n",
    "\n",
    "# Train and evaluate\n",
    "model = LogisticRegression()\n",
    "model.fit(X_train_vec, y_train)\n",
    "accuracy = model.score(vectorizer.transform(X_test), y_test)\n",
    "print(f\"Accuracy: {accuracy * 100:.2f}%\")"
   ]
  },
  {
   "cell_type": "code",
   "execution_count": 21,
   "id": "bbc9c1b5-8893-4897-8039-6e0cf39b0f6c",
   "metadata": {},
   "outputs": [
    {
     "name": "stdout",
     "output_type": "stream",
     "text": [
      "📄 Document Types in Dataset:\n",
      "['invoice' 'receipt' 'email' 'report' 'contract']\n"
     ]
    }
   ],
   "source": [
    "# --- NEW: Show document types in the CSV ---\n",
    "print(\"📄 Document Types in Dataset:\")\n",
    "print(data['label'].unique())  # e.g., ['invoice' 'receipt' 'email' ...]"
   ]
  },
  {
   "cell_type": "code",
   "execution_count": 38,
   "id": "b6a11890-3379-41a3-907a-7b9542a412e8",
   "metadata": {},
   "outputs": [
    {
     "name": "stdout",
     "output_type": "stream",
     "text": [
      "\n",
      "📊 Document Counts:\n",
      "label\n",
      "invoice     3\n",
      "report      3\n",
      "receipt     2\n",
      "email       2\n",
      "contract    2\n",
      "Name: count, dtype: int64\n"
     ]
    }
   ],
   "source": [
    "print(\"\\n📊 Document Counts:\")\n",
    "print(data['label'].value_counts())"
   ]
  },
  {
   "cell_type": "code",
   "execution_count": 36,
   "id": "1fecd8ea-924d-4ed3-b0a4-af1adfd8ebe2",
   "metadata": {},
   "outputs": [
    {
     "data": {
      "image/png": "[encoded data removed]",
      "text/plain": [
       "<Figure size 800x400 with 1 Axes>"
      ]
     },
     "metadata": {},
     "output_type": "display_data"
    }
   ],
   "source": [
    "\n",
    "# Visualize distribution\n",
    "plt.figure(figsize=(8, 4))\n",
    "sns.countplot(x='label', data=data)  # Now works!\n",
    "plt.title(\"Distribution of Document Types\")\n",
    "plt.xticks(rotation=45)\n",
    "plt.show()\n",
    "\n",
    "# Rest of the code (training/prediction)..."
   ]
  },
  {
   "cell_type": "code",
   "execution_count": 40,
   "id": "b81f5b6d-24ee-46b2-97bf-45094871e497",
   "metadata": {},
   "outputs": [
    {
     "name": "stdout",
     "output_type": "stream",
     "text": [
      "\n",
      "🔍 Model Accuracy: 0.00%\n"
     ]
    }
   ],
   "source": [
    "# Train-test split\n",
    "X_train, X_test, y_train, y_test = train_test_split(\n",
    "    data['text'], data['label'], test_size=0.2, random_state=42\n",
    ")\n",
    "\n",
    "# Vectorize text\n",
    "vectorizer = TfidfVectorizer()\n",
    "X_train_vec = vectorizer.fit_transform(X_train)\n",
    "\n",
    "# Train model\n",
    "model = LogisticRegression(max_iter=1000)\n",
    "model.fit(X_train_vec, y_train)\n",
    "\n",
    "# Test accuracy\n",
    "accuracy = model.score(vectorizer.transform(X_test), y_test)\n",
    "print(f\"\\n🔍 Model Accuracy: {accuracy * 100:.2f}%\")"
   ]
  },
  {
   "cell_type": "code",
   "execution_count": 42,
   "id": "85d2eac0-765b-4299-a641-a6eaa638cf2a",
   "metadata": {},
   "outputs": [
    {
     "name": "stdout",
     "output_type": "stream",
     "text": [
      "\n",
      "🤖 Predicted label for 'Invoice #123 Date: 2...': report\n"
     ]
    }
   ],
   "source": [
    "# --- NEW: Show a sample prediction ---\n",
    "sample_text = \"Invoice #123 Date: 2023-12-01 Total: $200\"\n",
    "sample_vec = vectorizer.transform([sample_text])\n",
    "predicted_label = model.predict(sample_vec)[0]\n",
    "print(f\"\\n🤖 Predicted label for '{sample_text[:20]}...': {predicted_label}\")"
   ]
  },
  {
   "cell_type": "code",
   "execution_count": null,
   "id": "583350d6-b169-41e4-95c7-d2d6e6c164ec",
   "metadata": {},
   "outputs": [],
   "source": []
  }
 ],
 "metadata": {
  "kernelspec": {
   "display_name": "Python 3 (ipykernel)",
   "language": "python",
   "name": "python3"
  },
  "language_info": {
   "codemirror_mode": {
    "name": "ipython",
    "version": 3
   },
   "file_extension": ".py",
   "mimetype": "text/x-python",
   "name": "python",
   "nbconvert_exporter": "python",
   "pygments_lexer": "ipython3",
   "version": "3.12.7"
  }
 },
 "nbformat": 4,
 "nbformat_minor": 5
}
